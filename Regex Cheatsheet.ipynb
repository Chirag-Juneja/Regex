{
 "cells": [
  {
   "cell_type": "markdown",
   "id": "e5c4dbef",
   "metadata": {},
   "source": [
    "# Regual Expressions (Regex) CheatSheet"
   ]
  },
  {
   "cell_type": "markdown",
   "id": "10f69b2a",
   "metadata": {},
   "source": [
    "## MetaCharacters\n",
    "```\n",
    ".       - Any Character Except New Line\n",
    "\\d      - Digit (0-9)\n",
    "\\D      - Not a Digit (0-9)\n",
    "\\w      - Word Character (a-z, A-Z, 0-9, _)\n",
    "\\W      - Not a Word Character\n",
    "\\s      - Whitespace (space, tab, newline)\n",
    "\\S      - Not Whitespace (space, tab, newline)\n",
    "\n",
    "\\b      - Word Boundary\n",
    "\\B      - Not a Word Boundary\n",
    "^       - Beginning of a String\n",
    "$       - End of a String\n",
    "\n",
    "[]      - Matches Characters in brackets\n",
    "[^ ]    - Matches Characters NOT in brackets\n",
    "|       - Either Or\n",
    "( )     - Group\n",
    "```"
   ]
  },
  {
   "cell_type": "markdown",
   "id": "9073ac7f",
   "metadata": {},
   "source": [
    "## Quantifiers\n",
    "```\n",
    "*       - 0 or More\n",
    "+       - 1 or More\n",
    "?       - 0 or One\n",
    "{3}     - Exact Number\n",
    "{3,4}   - Range of Numbers (Minimum, Maximum)\n",
    "\n",
    "```"
   ]
  },
  {
   "cell_type": "code",
   "execution_count": 1,
   "id": "4f3e8698",
   "metadata": {},
   "outputs": [],
   "source": [
    "import re"
   ]
  },
  {
   "cell_type": "code",
   "execution_count": 2,
   "id": "eb28b3cb",
   "metadata": {},
   "outputs": [],
   "source": [
    "sample = '''\n",
    "abcdefghijklmnopqurtuvwxyz\n",
    "ABCDEFGHIJKLMNOPQRSTUVWXYZ\n",
    "1234567890\n",
    "Ha HaHa\n",
    "MetaCharacters (Need to be escaped):\n",
    ". ^ $ * + ? { } [ ] \\ | ( )\n",
    "coreyms.com\n",
    "321-555-4321\n",
    "123.555.1234\n",
    "123*555*1234\n",
    "800-555-1234\n",
    "900-555-1234\n",
    "chiragjuneja.com\n",
    "Mr. Schafer\n",
    "Mr Smith\n",
    "Ms Davis\n",
    "Mrs. Robinson\n",
    "Mr. T\n",
    "cat\n",
    "mat\n",
    "pat\n",
    "bat\n",
    "'''"
   ]
  },
  {
   "cell_type": "code",
   "execution_count": 3,
   "id": "ee47bb53",
   "metadata": {},
   "outputs": [],
   "source": [
    "urls = '''\n",
    "https://www.google.com\n",
    "http://coreyms.com\n",
    "https://youtube.com\n",
    "https://www.nasa.gov\n",
    "'''"
   ]
  },
  {
   "cell_type": "markdown",
   "id": "656c8107",
   "metadata": {},
   "source": [
    "### Find Matches Literal String"
   ]
  },
  {
   "cell_type": "code",
   "execution_count": 4,
   "id": "e6f33b7b",
   "metadata": {},
   "outputs": [],
   "source": [
    "def get_matches(pattern, text):\n",
    "    matches = pattern.finditer(text)\n",
    "    return [match for match in matches]"
   ]
  },
  {
   "cell_type": "code",
   "execution_count": 5,
   "id": "6b64f7e1",
   "metadata": {},
   "outputs": [
    {
     "data": {
      "text/plain": [
       "[<re.Match object; span=(1, 4), match='abc'>]"
      ]
     },
     "execution_count": 5,
     "metadata": {},
     "output_type": "execute_result"
    }
   ],
   "source": [
    "pattern = re.compile(r'abc')\n",
    "get_matches(pattern, sample)"
   ]
  },
  {
   "cell_type": "markdown",
   "id": "504d91a7",
   "metadata": {},
   "source": [
    "### MetaCharacters (Need to be escaped)"
   ]
  },
  {
   "cell_type": "code",
   "execution_count": 6,
   "id": "c561e760",
   "metadata": {},
   "outputs": [
    {
     "data": {
      "text/plain": [
       "[<re.Match object; span=(216, 232), match='chiragjuneja.com'>]"
      ]
     },
     "execution_count": 6,
     "metadata": {},
     "output_type": "execute_result"
    }
   ],
   "source": [
    "pattern = re.compile(r'chiragjuneja\\.com')\n",
    "get_matches(pattern, sample)"
   ]
  },
  {
   "cell_type": "markdown",
   "id": "5d8baeb0",
   "metadata": {},
   "source": [
    "### Match Digits"
   ]
  },
  {
   "cell_type": "code",
   "execution_count": 7,
   "id": "6a9dad08",
   "metadata": {},
   "outputs": [
    {
     "data": {
      "text/plain": [
       "[<re.Match object; span=(151, 162), match='321-555-432'>,\n",
       " <re.Match object; span=(164, 175), match='123.555.123'>,\n",
       " <re.Match object; span=(177, 188), match='123*555*123'>,\n",
       " <re.Match object; span=(190, 201), match='800-555-123'>,\n",
       " <re.Match object; span=(203, 214), match='900-555-123'>]"
      ]
     },
     "execution_count": 7,
     "metadata": {},
     "output_type": "execute_result"
    }
   ],
   "source": [
    "pattern = re.compile(r'\\d\\d\\d.\\d\\d\\d.\\d\\d\\d')\n",
    "get_matches(pattern, sample)"
   ]
  },
  {
   "cell_type": "markdown",
   "id": "27f2e6f6",
   "metadata": {},
   "source": [
    "### Match Characters in Brackets"
   ]
  },
  {
   "cell_type": "code",
   "execution_count": 8,
   "id": "cc7b1c2d",
   "metadata": {},
   "outputs": [
    {
     "data": {
      "text/plain": [
       "[<re.Match object; span=(151, 162), match='321-555-432'>,\n",
       " <re.Match object; span=(164, 175), match='123.555.123'>,\n",
       " <re.Match object; span=(190, 201), match='800-555-123'>,\n",
       " <re.Match object; span=(203, 214), match='900-555-123'>]"
      ]
     },
     "execution_count": 8,
     "metadata": {},
     "output_type": "execute_result"
    }
   ],
   "source": [
    "pattern = re.compile(r'\\d\\d\\d[-.]\\d\\d\\d[-.]\\d\\d\\d')\n",
    "get_matches(pattern, sample)"
   ]
  },
  {
   "cell_type": "code",
   "execution_count": 9,
   "id": "bb1ed03a",
   "metadata": {},
   "outputs": [
    {
     "data": {
      "text/plain": [
       "[<re.Match object; span=(190, 201), match='800-555-123'>,\n",
       " <re.Match object; span=(203, 214), match='900-555-123'>]"
      ]
     },
     "execution_count": 9,
     "metadata": {},
     "output_type": "execute_result"
    }
   ],
   "source": [
    "pattern = re.compile(r'[89]00[-.]\\d\\d\\d[-.]\\d\\d\\d')\n",
    "get_matches(pattern, sample)"
   ]
  },
  {
   "cell_type": "markdown",
   "id": "0a8b7429",
   "metadata": {},
   "source": [
    "### Match Characters Not in Brackets"
   ]
  },
  {
   "cell_type": "code",
   "execution_count": 10,
   "id": "06e0675b",
   "metadata": {},
   "outputs": [
    {
     "data": {
      "text/plain": [
       "[<re.Match object; span=(283, 286), match='cat'>,\n",
       " <re.Match object; span=(287, 290), match='mat'>,\n",
       " <re.Match object; span=(291, 294), match='pat'>]"
      ]
     },
     "execution_count": 10,
     "metadata": {},
     "output_type": "execute_result"
    }
   ],
   "source": [
    "pattern = re.compile(r'[^b]at')\n",
    "get_matches(pattern, sample)"
   ]
  },
  {
   "cell_type": "markdown",
   "id": "9219f5f8",
   "metadata": {},
   "source": [
    "### Quantifiers"
   ]
  },
  {
   "cell_type": "code",
   "execution_count": 11,
   "id": "301d7c68",
   "metadata": {},
   "outputs": [
    {
     "data": {
      "text/plain": [
       "[<re.Match object; span=(151, 162), match='321-555-432'>,\n",
       " <re.Match object; span=(164, 175), match='123.555.123'>,\n",
       " <re.Match object; span=(177, 188), match='123*555*123'>,\n",
       " <re.Match object; span=(190, 201), match='800-555-123'>,\n",
       " <re.Match object; span=(203, 214), match='900-555-123'>]"
      ]
     },
     "execution_count": 11,
     "metadata": {},
     "output_type": "execute_result"
    }
   ],
   "source": [
    "pattern = re.compile(r'\\d{3}.\\d{3}.\\d{3}')\n",
    "get_matches(pattern, sample)"
   ]
  },
  {
   "cell_type": "code",
   "execution_count": 12,
   "id": "3548dd92",
   "metadata": {},
   "outputs": [
    {
     "data": {
      "text/plain": [
       "[<re.Match object; span=(233, 244), match='Mr. Schafer'>,\n",
       " <re.Match object; span=(245, 253), match='Mr Smith'>,\n",
       " <re.Match object; span=(277, 282), match='Mr. T'>]"
      ]
     },
     "execution_count": 12,
     "metadata": {},
     "output_type": "execute_result"
    }
   ],
   "source": [
    "pattern = re.compile(r'Mr\\.?\\s[A-Z]\\w*')\n",
    "get_matches(pattern, sample)"
   ]
  },
  {
   "cell_type": "code",
   "execution_count": 13,
   "id": "66ec530c",
   "metadata": {},
   "outputs": [
    {
     "data": {
      "text/plain": [
       "[<re.Match object; span=(233, 244), match='Mr. Schafer'>,\n",
       " <re.Match object; span=(245, 253), match='Mr Smith'>,\n",
       " <re.Match object; span=(254, 262), match='Ms Davis'>,\n",
       " <re.Match object; span=(263, 276), match='Mrs. Robinson'>,\n",
       " <re.Match object; span=(277, 282), match='Mr. T'>]"
      ]
     },
     "execution_count": 13,
     "metadata": {},
     "output_type": "execute_result"
    }
   ],
   "source": [
    "pattern = re.compile(r'M(r|s|rs)\\.?\\s[A-Z]\\w*')\n",
    "get_matches(pattern, sample)"
   ]
  },
  {
   "cell_type": "code",
   "execution_count": 14,
   "id": "884a7d9d",
   "metadata": {},
   "outputs": [
    {
     "data": {
      "text/plain": [
       "[<re.Match object; span=(233, 244), match='Mr. Schafer'>,\n",
       " <re.Match object; span=(245, 253), match='Mr Smith'>,\n",
       " <re.Match object; span=(254, 262), match='Ms Davis'>,\n",
       " <re.Match object; span=(263, 276), match='Mrs. Robinson'>,\n",
       " <re.Match object; span=(277, 282), match='Mr. T'>]"
      ]
     },
     "execution_count": 14,
     "metadata": {},
     "output_type": "execute_result"
    }
   ],
   "source": [
    "pattern = re.compile(r'(Mr|Ms|Mrs)\\.?\\s[A-Z]\\w*')\n",
    "get_matches(pattern, sample)"
   ]
  },
  {
   "cell_type": "code",
   "execution_count": 15,
   "id": "498e9ba4",
   "metadata": {},
   "outputs": [
    {
     "data": {
      "text/plain": [
       "[<re.Match object; span=(1, 23), match='https://www.google.com'>,\n",
       " <re.Match object; span=(24, 42), match='http://coreyms.com'>,\n",
       " <re.Match object; span=(43, 62), match='https://youtube.com'>,\n",
       " <re.Match object; span=(63, 83), match='https://www.nasa.gov'>]"
      ]
     },
     "execution_count": 15,
     "metadata": {},
     "output_type": "execute_result"
    }
   ],
   "source": [
    "pattern = re.compile(r'https?://(www\\.)?(\\w+)(\\.\\w+)')\n",
    "get_matches(pattern, urls)"
   ]
  },
  {
   "cell_type": "code",
   "execution_count": 16,
   "id": "83a7d1aa",
   "metadata": {},
   "outputs": [
    {
     "name": "stdout",
     "output_type": "stream",
     "text": [
      "google\n",
      "coreyms\n",
      "youtube\n",
      "nasa\n"
     ]
    }
   ],
   "source": [
    "pattern = re.compile(r'https?://(www\\.)?(\\w+)(\\.\\w+)')\n",
    "matches = pattern.finditer(urls)\n",
    "for match in matches:\n",
    "    print(match.group(2))"
   ]
  },
  {
   "cell_type": "code",
   "execution_count": 17,
   "id": "c42c7bbd",
   "metadata": {},
   "outputs": [
    {
     "name": "stdout",
     "output_type": "stream",
     "text": [
      "\n",
      "google.com\n",
      "coreyms.com\n",
      "youtube.com\n",
      "nasa.gov\n",
      "\n"
     ]
    }
   ],
   "source": [
    "pattern = re.compile(r'https?://(www\\.)?(\\w+)(\\.\\w+)')\n",
    "subbed_urls = pattern.sub(r'\\2\\3',urls)\n",
    "print(subbed_urls)"
   ]
  },
  {
   "cell_type": "markdown",
   "id": "a9afba05",
   "metadata": {},
   "source": [
    "### Find All\n",
    "returns groups "
   ]
  },
  {
   "cell_type": "code",
   "execution_count": 18,
   "id": "03751925",
   "metadata": {},
   "outputs": [
    {
     "data": {
      "text/plain": [
       "['Mr', 'Mr', 'Ms', 'Mrs', 'Mr']"
      ]
     },
     "execution_count": 18,
     "metadata": {},
     "output_type": "execute_result"
    }
   ],
   "source": [
    "pattern = re.compile(r'(Mr|Ms|Mrs)\\.?\\s[A-Z]\\w*')\n",
    "pattern.findall(sample)"
   ]
  },
  {
   "cell_type": "code",
   "execution_count": 19,
   "id": "96b4bf7a",
   "metadata": {},
   "outputs": [
    {
     "data": {
      "text/plain": [
       "[('Mr', 'Schafer'),\n",
       " ('Mr', 'Smith'),\n",
       " ('Ms', 'Davis'),\n",
       " ('Mrs', 'Robinson'),\n",
       " ('Mr', 'T')]"
      ]
     },
     "execution_count": 19,
     "metadata": {},
     "output_type": "execute_result"
    }
   ],
   "source": [
    "pattern = re.compile(r'(Mr|Ms|Mrs)\\.?\\s([A-Z]\\w*)')\n",
    "pattern.findall(sample)"
   ]
  },
  {
   "cell_type": "markdown",
   "id": "9b01251d",
   "metadata": {},
   "source": [
    "### Match at the Begining of string "
   ]
  },
  {
   "cell_type": "code",
   "execution_count": 20,
   "id": "431ca4e2",
   "metadata": {},
   "outputs": [
    {
     "name": "stdout",
     "output_type": "stream",
     "text": [
      "<re.Match object; span=(0, 5), match='Start'>\n",
      "None\n"
     ]
    }
   ],
   "source": [
    "sentence = 'Start a sentence and then bring it to an end'\n",
    "pattern = re.compile(r'Start')\n",
    "\n",
    "print(pattern.match(sentence))\n",
    "\n",
    "print(re.match(r'sentence',sentence))"
   ]
  },
  {
   "cell_type": "markdown",
   "id": "f5fee1f9",
   "metadata": {},
   "source": [
    "### Search for first occurance"
   ]
  },
  {
   "cell_type": "code",
   "execution_count": 21,
   "id": "2e4b9f0f",
   "metadata": {},
   "outputs": [
    {
     "name": "stdout",
     "output_type": "stream",
     "text": [
      "<re.Match object; span=(8, 16), match='sentence'>\n"
     ]
    }
   ],
   "source": [
    "sentence = 'Start a sentence and then bring it to an end'\n",
    "\n",
    "print(re.search(r'sentence',sentence))"
   ]
  },
  {
   "cell_type": "markdown",
   "id": "26533905",
   "metadata": {},
   "source": [
    "### Flags"
   ]
  },
  {
   "cell_type": "code",
   "execution_count": 22,
   "id": "3ad89413",
   "metadata": {},
   "outputs": [
    {
     "name": "stdout",
     "output_type": "stream",
     "text": [
      "None\n",
      "<re.Match object; span=(0, 5), match='Start'>\n"
     ]
    }
   ],
   "source": [
    "sentence = 'Start a sentence and then bring it to an end'\n",
    "print(re.match(r'start', sentence))\n",
    "print(re.match(r'start', sentence, re.IGNORECASE))"
   ]
  }
 ],
 "metadata": {
  "kernelspec": {
   "display_name": "Python 3",
   "language": "python",
   "name": "python3"
  },
  "language_info": {
   "codemirror_mode": {
    "name": "ipython",
    "version": 3
   },
   "file_extension": ".py",
   "mimetype": "text/x-python",
   "name": "python",
   "nbconvert_exporter": "python",
   "pygments_lexer": "ipython3",
   "version": "3.8.8"
  }
 },
 "nbformat": 4,
 "nbformat_minor": 5
}
